{
 "cells": [
  {
   "cell_type": "markdown",
   "metadata": {},
   "source": [
    "### Generate a text stream\n",
    "By default, the model returns a response after completing the entire text generation process. You can achieve faster interactions by not waiting for the entire result, and instead use streaming to handle partial results.\n",
    "\n",
    "The following example shows how to implement streaming using the streamGenerateContent method to generate text from a text-only input prompt."
   ]
  },
  {
   "cell_type": "code",
   "execution_count": 1,
   "metadata": {},
   "outputs": [
    {
     "name": "stderr",
     "output_type": "stream",
     "text": [
      "/Library/Frameworks/Python.framework/Versions/3.13/lib/python3.13/site-packages/tqdm/auto.py:21: TqdmWarning: IProgress not found. Please update jupyter and ipywidgets. See https://ipywidgets.readthedocs.io/en/stable/user_install.html\n",
      "  from .autonotebook import tqdm as notebook_tqdm\n"
     ]
    },
    {
     "name": "stdout",
     "output_type": "stream",
     "text": [
      "AI works by mimicking human intelligence processes through machines, specifically computers.  This involves a vast range of techniques, but the core idea is to create systems that can learn from data, reason, and solve problems.  Here's a breakdown of key aspects:\n",
      "\n",
      "**1. Data is King:**  AI systems learn from vast amounts of data.  This data can be anything from images and text to sensor readings and financial transactions. The more relevant and high-quality data you feed an AI, the better it performs.\n",
      "\n",
      "**2. Algorithms: The Recipe for Intelligence:** Algorithms are sets of rules and statistical techniques that tell the computer how to process and learn from the data.  These algorithms are the \"brains\" of the AI system.  Different algorithms are suited to different tasks.  Some common types include:\n",
      "\n",
      "* **Machine Learning (ML):** This is a broad category where the AI learns from data without explicit programming.  The system identifies patterns and relationships in the data, allowing it to make predictions or decisions.  There are several subfields:\n",
      "    * **Supervised Learning:** The algorithm learns from labeled data (e.g., images labeled as \"cat\" or \"dog\").\n",
      "    * **Unsupervised Learning:** The algorithm finds patterns in unlabeled data (e.g., grouping customers based on their purchasing behavior).\n",
      "    * **Reinforcement Learning:** The algorithm learns through trial and error, receiving rewards or penalties for its actions (e.g., training a robot to walk).\n",
      "\n",
      "* **Deep Learning (DL):** A subset of machine learning that uses artificial neural networks with multiple layers (hence \"deep\"). These networks are inspired by the structure and function of the human brain and excel at processing complex data like images, speech, and text.\n",
      "\n",
      "* **Natural Language Processing (NLP):**  Focuses on enabling computers to understand, interpret, and generate human language.  This is used in chatbots, machine translation, and sentiment analysis.\n",
      "\n",
      "* **Computer Vision:**  Allows computers to \"see\" and interpret images and videos.  This is used in self-driving cars, facial recognition, and medical image analysis.\n",
      "\n",
      "**3. Models: The Learned Representation:** As an AI system learns from data using its algorithms, it creates a \"model.\"  This model is a mathematical representation of the patterns and relationships it has discovered in the data.  This model is then used to make predictions or decisions on new, unseen data.\n",
      "\n",
      "**4. Training and Evaluation:** AI systems are not born intelligent; they need to be trained.  This involves feeding the algorithm vast amounts of data and allowing it to adjust its internal parameters to minimize errors.  The performance of the trained model is then evaluated using separate test data to ensure it generalizes well to new, unseen data.\n",
      "\n",
      "**5. Inference: Making Predictions:** Once a model is trained, it can be used to make inferences or predictions on new data.  This is the stage where the AI actually performs its task, such as classifying images, translating text, or recommending products.\n",
      "\n",
      "\n",
      "In summary, AI works by combining large datasets, powerful algorithms, and sophisticated models to create systems that can learn, reason, and solve problems in ways that mimic human intelligence.  The specific techniques used depend heavily on the task at hand, but the core principles remain consistent.\n"
     ]
    }
   ],
   "source": [
    "from dotenv import load_dotenv\n",
    "import os\n",
    "import google.generativeai as genai\n",
    "\n",
    "load_dotenv()\n",
    "genai.configure(api_key=os.getenv(\"GEMINI_API_KEY\"))\n",
    "model = genai.GenerativeModel(\"gemini-1.5-flash\")\n",
    "response = model.generate_content(\"Explain how AI works\", stream=True)\n",
    "for chunk in response:\n",
    "    print(chunk.text, end=\"\")"
   ]
  }
 ],
 "metadata": {
  "kernelspec": {
   "display_name": "Python 3",
   "language": "python",
   "name": "python3"
  },
  "language_info": {
   "codemirror_mode": {
    "name": "ipython",
    "version": 3
   },
   "file_extension": ".py",
   "mimetype": "text/x-python",
   "name": "python",
   "nbconvert_exporter": "python",
   "pygments_lexer": "ipython3",
   "version": "3.13.1"
  }
 },
 "nbformat": 4,
 "nbformat_minor": 2
}
