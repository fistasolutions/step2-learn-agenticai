{
 "cells": [
  {
   "cell_type": "markdown",
   "metadata": {},
   "source": [
    "### Generate a text stream\n",
    "By default, the model returns a response after completing the entire text generation process. You can achieve faster interactions by not waiting for the entire result, and instead use streaming to handle partial results.\n",
    "\n",
    "The following example shows how to implement streaming using the streamGenerateContent method to generate text from a text-only input prompt."
   ]
  },
  {
   "cell_type": "code",
   "execution_count": 2,
   "metadata": {},
   "outputs": [
    {
     "name": "stderr",
     "output_type": "stream",
     "text": [
      "/Library/Frameworks/Python.framework/Versions/3.13/lib/python3.13/site-packages/tqdm/auto.py:21: TqdmWarning: IProgress not found. Please update jupyter and ipywidgets. See https://ipywidgets.readthedocs.io/en/stable/user_install.html\n",
      "  from .autonotebook import tqdm as notebook_tqdm\n"
     ]
    },
    {
     "name": "stdout",
     "output_type": "stream",
     "text": [
      "Artificial intelligence (AI) is a broad field encompassing many techniques, but at its core, AI aims to create systems that can perform tasks that typically require human intelligence. These tasks include learning, reasoning, problem-solving, perception, and natural language understanding.  There's no single \"how\" to explain AI, as different approaches exist. However, we can break down the common underlying principles:\n",
      "\n",
      "**1. Data is Key:**  AI systems learn from data. The more data they are trained on, the better they generally perform. This data can be anything from images and text to sensor readings and financial transactions.  The quality and quantity of this data are critical.\n",
      "\n",
      "**2. Algorithms and Models:** AI uses algorithms (sets of rules and instructions) to process and analyze data. These algorithms are often implemented as mathematical models that identify patterns and relationships within the data.  Different types of AI use different models:\n",
      "\n",
      "* **Machine Learning (ML):**  This is a subset of AI where systems learn from data without explicit programming.  Instead of being explicitly programmed with rules, ML algorithms identify patterns and make predictions based on the data they've seen.  Examples include:\n",
      "    * **Supervised Learning:** The algorithm is trained on labeled data (data with known inputs and outputs).  The goal is to learn a mapping between inputs and outputs to make predictions on new, unseen data.  Examples include image classification and spam detection.\n",
      "    * **Unsupervised Learning:** The algorithm is trained on unlabeled data.  The goal is to discover hidden patterns, structures, or groupings within the data.  Examples include clustering and dimensionality reduction.\n",
      "    * **Reinforcement Learning:** The algorithm learns through trial and error by interacting with an environment.  It receives rewards for desirable actions and penalties for undesirable actions, learning to optimize its behavior over time.  Examples include game playing and robotics.\n",
      "\n",
      "* **Deep Learning (DL):** A subset of machine learning that uses artificial neural networks with multiple layers (hence \"deep\"). These networks are inspired by the structure and function of the human brain and are particularly effective at handling complex data like images, audio, and text.  DL powers many advanced AI applications like image recognition, natural language processing, and speech recognition.\n",
      "\n",
      "* **Expert Systems:** These AI systems use a knowledge base of rules and facts to mimic the decision-making abilities of a human expert in a specific domain.  They're less common now, often superseded by more flexible machine learning techniques.\n",
      "\n",
      "**3. Training and Evaluation:**  AI models are trained by feeding them large amounts of data.  During training, the model adjusts its internal parameters to improve its performance on a specific task.  The model's performance is then evaluated using metrics relevant to the task (e.g., accuracy, precision, recall).  This process often involves iterative refinement and improvement.\n",
      "\n",
      "**4. Inference (Prediction):** Once trained, an AI model can be used to make predictions or decisions on new, unseen data. This is the inference stage.\n",
      "\n",
      "**In simple terms:** Imagine teaching a dog a trick. You show the dog (the AI model) examples of the trick (the data), reward it when it does it correctly (training), and eventually, the dog learns to perform the trick on its own (inference).  AI works similarly, but with algorithms and massive datasets instead of treats and commands.\n",
      "\n",
      "\n",
      "It's important to remember that AI is constantly evolving.  New techniques and approaches are continually being developed, pushing the boundaries of what's possible.  The explanation above provides a general overview, and the specifics can vary greatly depending on the specific AI application.\n"
     ]
    }
   ],
   "source": [
    "from dotenv import load_dotenv\n",
    "import os\n",
    "import google.generativeai as genai\n",
    "\n",
    "load_dotenv()\n",
    "genai.configure(api_key=os.getenv(\"GEMINI_API_KEY\"))\n",
    "model = genai.GenerativeModel(\"gemini-1.5-flash\")\n",
    "response = model.generate_content(\"Explain how AI works\", stream=True)\n",
    "for chunk in response:\n",
    "    print(chunk.text, end=\"\")"
   ]
  }
 ],
 "metadata": {
  "kernelspec": {
   "display_name": "Python 3",
   "language": "python",
   "name": "python3"
  },
  "language_info": {
   "codemirror_mode": {
    "name": "ipython",
    "version": 3
   },
   "file_extension": ".py",
   "mimetype": "text/x-python",
   "name": "python",
   "nbconvert_exporter": "python",
   "pygments_lexer": "ipython3",
   "version": "3.13.1"
  }
 },
 "nbformat": 4,
 "nbformat_minor": 2
}
