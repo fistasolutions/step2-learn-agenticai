{
 "cells": [
  {
   "cell_type": "code",
   "execution_count": 2,
   "metadata": {},
   "outputs": [
    {
     "name": "stdout",
     "output_type": "stream",
     "text": [
      "That's a digital image, not an instrument.  It's a celebratory graphic for FISTA (likely a company name), wishing a \"Happy New AI Year 2025\".\n",
      "\n",
      "The image incorporates:\n",
      "\n",
      "* **The FISTA logo:** prominently displayed in red.\n",
      "* **A New Year's greeting:** specifically referencing AI, suggesting the company's focus on artificial intelligence.\n",
      "* **A collage of photos:** showing employees in different settings, both working and socializing, implying a team-oriented workplace culture.\n",
      "* **A binary code background:**  This is a design element visually representing data and technology, further emphasizing the AI theme.\n",
      "* **A media player control bar:** at the bottom, suggesting the image might be a social media post or part of a larger video presentation.\n",
      "\n",
      "In short, it's not a musical instrument or any kind of physical device; it's a digital graphic used for promotional or celebratory purposes by a company called FISTA.\n",
      "\n"
     ]
    }
   ],
   "source": [
    "from dotenv import load_dotenv\n",
    "import os\n",
    "import google.generativeai as genai\n",
    "import PIL.Image\n",
    "\n",
    "load_dotenv()\n",
    "genai.configure(api_key=os.getenv(\"GEMINI_API_KEY\"))\n",
    "model = genai.GenerativeModel(\"gemini-1.5-flash\")\n",
    "organ = PIL.Image.open(\"FISTA.png\")\n",
    "response = model.generate_content([\"Tell me about this instrument\", organ])\n",
    "print(response.text)"
   ]
  },
  {
   "cell_type": "code",
   "execution_count": 3,
   "metadata": {},
   "outputs": [
    {
     "name": "stdout",
     "output_type": "stream",
     "text": [
      "Artificial intelligence (AI) is a broad field encompassing many techniques, but at its core, it involves creating systems that can perform tasks that typically require human intelligence.  These tasks include learning, reasoning, problem-solving, perception, and understanding natural language.  There's no single \"how it works\" answer, as different AI approaches use different methods.  However, some key concepts underpin most AI systems:\n",
      "\n",
      "**1. Data:** AI systems are fundamentally data-driven. They learn from vast amounts of data, identifying patterns and relationships that humans might miss. The quality and quantity of this data significantly impact the performance of the AI.\n",
      "\n",
      "**2. Algorithms:**  These are sets of rules and instructions that tell the AI how to process the data and learn from it.  Different algorithms are suited to different tasks.  For example:\n",
      "\n",
      "* **Machine Learning (ML):**  This is a subset of AI where systems learn from data without explicit programming.  Instead of being explicitly programmed with rules, they identify patterns and make predictions based on the data they're trained on.  Different types of ML include:\n",
      "    * **Supervised Learning:** The algorithm is trained on labeled data (data with known inputs and outputs).  For example, showing an image classifier thousands of images of cats and dogs labeled accordingly.\n",
      "    * **Unsupervised Learning:** The algorithm is trained on unlabeled data and tries to find patterns and structures within it.  For example, grouping similar customers together based on their purchasing history.\n",
      "    * **Reinforcement Learning:** The algorithm learns through trial and error, receiving rewards or penalties for its actions.  This is often used in robotics and game playing.\n",
      "\n",
      "* **Deep Learning (DL):** A subfield of ML that uses artificial neural networks with multiple layers (hence \"deep\").  These networks are inspired by the structure and function of the human brain and can learn incredibly complex patterns from large datasets.  Deep learning powers many advanced AI applications, such as image recognition, natural language processing, and speech recognition.\n",
      "\n",
      "**3. Models:**  The algorithm processes the data and creates a \"model.\" This model is a representation of the patterns and relationships learned from the data.  It's essentially a mathematical formula or structure that allows the AI to make predictions or decisions on new, unseen data.\n",
      "\n",
      "**4. Inference/Prediction:**  Once a model is trained, it can be used to make inferences or predictions on new data.  This is the stage where the AI actually performs the task it's been trained for.\n",
      "\n",
      "**5. Evaluation and Improvement:** AI systems are continuously evaluated and improved.  Their performance is measured, and adjustments are made to the algorithms, data, or model to improve accuracy and efficiency.\n",
      "\n",
      "**Simplified Analogy:** Imagine teaching a child to identify different fruits. You show them many examples of apples, oranges, and bananas, labeling each one.  This is like supervised learning.  The child (the AI) learns to identify the features that distinguish each fruit (the model).  Later, when shown a new fruit, they can classify it based on what they've learned.\n",
      "\n",
      "Different AI systems use variations and combinations of these components.  The complexity and sophistication of these systems vary greatly, from simple rule-based systems to highly complex deep learning models.  The field is constantly evolving, with new algorithms and techniques being developed all the time.\n"
     ]
    }
   ],
   "source": [
    "response = model.generate_content(\"Explain how AI works\", stream=True)\n",
    "for chunk in response:\n",
    "    print(chunk.text, end=\"\")"
   ]
  }
 ],
 "metadata": {
  "kernelspec": {
   "display_name": "Python 3",
   "language": "python",
   "name": "python3"
  },
  "language_info": {
   "codemirror_mode": {
    "name": "ipython",
    "version": 3
   },
   "file_extension": ".py",
   "mimetype": "text/x-python",
   "name": "python",
   "nbconvert_exporter": "python",
   "pygments_lexer": "ipython3",
   "version": "3.13.1"
  }
 },
 "nbformat": 4,
 "nbformat_minor": 2
}
