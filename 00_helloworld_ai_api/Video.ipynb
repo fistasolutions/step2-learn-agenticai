{
  "cells": [
    {
      "cell_type": "markdown",
      "metadata": {
        "id": "084u8u0DpBlo"
      },
      "source": [
        "# Gemini API: Prompting with Video"
      ]
    },
    {
      "cell_type": "markdown",
      "metadata": {
        "id": "q7QvXQMrIhuZ"
      },
      "source": [
        "This notebook provides a quick example of how to prompt the Gemini API using a video file. In this case, you'll use a short clip of [Big Buck Bunny](https://peach.blender.org/about/)."
      ]
    },
    {
      "cell_type": "markdown",
      "metadata": {
        "id": "d5027929de8f"
      },
      "source": [
        "### Install dependencies"
      ]
    },
    {
      "cell_type": "code",
      "execution_count": 1,
      "metadata": {
        "id": "TwpXMTnpsoHC"
      },
      "outputs": [
        {
          "name": "stdout",
          "output_type": "stream",
          "text": [
            "Requirement already satisfied: google-generativeai>=0.7.2 in /opt/anaconda3/lib/python3.12/site-packages (0.8.3)\n",
            "Requirement already satisfied: google-ai-generativelanguage==0.6.10 in /opt/anaconda3/lib/python3.12/site-packages (from google-generativeai>=0.7.2) (0.6.10)\n",
            "Requirement already satisfied: google-api-core in /opt/anaconda3/lib/python3.12/site-packages (from google-generativeai>=0.7.2) (2.24.0)\n",
            "Requirement already satisfied: google-api-python-client in /opt/anaconda3/lib/python3.12/site-packages (from google-generativeai>=0.7.2) (2.158.0)\n",
            "Requirement already satisfied: google-auth>=2.15.0 in /opt/anaconda3/lib/python3.12/site-packages (from google-generativeai>=0.7.2) (2.37.0)\n",
            "Requirement already satisfied: protobuf in /opt/anaconda3/lib/python3.12/site-packages (from google-generativeai>=0.7.2) (5.29.3)\n",
            "Requirement already satisfied: pydantic in /opt/anaconda3/lib/python3.12/site-packages (from google-generativeai>=0.7.2) (2.10.5)\n",
            "Requirement already satisfied: tqdm in /opt/anaconda3/lib/python3.12/site-packages (from google-generativeai>=0.7.2) (4.66.5)\n",
            "Requirement already satisfied: typing-extensions in /opt/anaconda3/lib/python3.12/site-packages (from google-generativeai>=0.7.2) (4.12.2)\n",
            "Requirement already satisfied: proto-plus<2.0.0dev,>=1.22.3 in /opt/anaconda3/lib/python3.12/site-packages (from google-ai-generativelanguage==0.6.10->google-generativeai>=0.7.2) (1.25.0)\n",
            "Requirement already satisfied: googleapis-common-protos<2.0.dev0,>=1.56.2 in /opt/anaconda3/lib/python3.12/site-packages (from google-api-core->google-generativeai>=0.7.2) (1.66.0)\n",
            "Requirement already satisfied: requests<3.0.0.dev0,>=2.18.0 in /opt/anaconda3/lib/python3.12/site-packages (from google-api-core->google-generativeai>=0.7.2) (2.32.3)\n",
            "Requirement already satisfied: cachetools<6.0,>=2.0.0 in /opt/anaconda3/lib/python3.12/site-packages (from google-auth>=2.15.0->google-generativeai>=0.7.2) (5.3.3)\n",
            "Requirement already satisfied: pyasn1-modules>=0.2.1 in /opt/anaconda3/lib/python3.12/site-packages (from google-auth>=2.15.0->google-generativeai>=0.7.2) (0.2.8)\n",
            "Requirement already satisfied: rsa<5,>=3.1.4 in /opt/anaconda3/lib/python3.12/site-packages (from google-auth>=2.15.0->google-generativeai>=0.7.2) (4.9)\n",
            "Requirement already satisfied: httplib2<1.dev0,>=0.19.0 in /opt/anaconda3/lib/python3.12/site-packages (from google-api-python-client->google-generativeai>=0.7.2) (0.22.0)\n",
            "Requirement already satisfied: google-auth-httplib2<1.0.0,>=0.2.0 in /opt/anaconda3/lib/python3.12/site-packages (from google-api-python-client->google-generativeai>=0.7.2) (0.2.0)\n",
            "Requirement already satisfied: uritemplate<5,>=3.0.1 in /opt/anaconda3/lib/python3.12/site-packages (from google-api-python-client->google-generativeai>=0.7.2) (4.1.1)\n",
            "Requirement already satisfied: annotated-types>=0.6.0 in /opt/anaconda3/lib/python3.12/site-packages (from pydantic->google-generativeai>=0.7.2) (0.6.0)\n",
            "Requirement already satisfied: pydantic-core==2.27.2 in /opt/anaconda3/lib/python3.12/site-packages (from pydantic->google-generativeai>=0.7.2) (2.27.2)\n",
            "Requirement already satisfied: grpcio<2.0dev,>=1.33.2 in /opt/anaconda3/lib/python3.12/site-packages (from google-api-core[grpc]!=2.0.*,!=2.1.*,!=2.10.*,!=2.2.*,!=2.3.*,!=2.4.*,!=2.5.*,!=2.6.*,!=2.7.*,!=2.8.*,!=2.9.*,<3.0.0dev,>=1.34.1->google-ai-generativelanguage==0.6.10->google-generativeai>=0.7.2) (1.64.3)\n",
            "Requirement already satisfied: grpcio-status<2.0.dev0,>=1.33.2 in /opt/anaconda3/lib/python3.12/site-packages (from google-api-core[grpc]!=2.0.*,!=2.1.*,!=2.10.*,!=2.2.*,!=2.3.*,!=2.4.*,!=2.5.*,!=2.6.*,!=2.7.*,!=2.8.*,!=2.9.*,<3.0.0dev,>=1.34.1->google-ai-generativelanguage==0.6.10->google-generativeai>=0.7.2) (1.64.3)\n",
            "Requirement already satisfied: pyparsing!=3.0.0,!=3.0.1,!=3.0.2,!=3.0.3,<4,>=2.4.2 in /opt/anaconda3/lib/python3.12/site-packages (from httplib2<1.dev0,>=0.19.0->google-api-python-client->google-generativeai>=0.7.2) (3.1.2)\n",
            "Requirement already satisfied: pyasn1<0.5.0,>=0.4.6 in /opt/anaconda3/lib/python3.12/site-packages (from pyasn1-modules>=0.2.1->google-auth>=2.15.0->google-generativeai>=0.7.2) (0.4.8)\n",
            "Requirement already satisfied: charset-normalizer<4,>=2 in /opt/anaconda3/lib/python3.12/site-packages (from requests<3.0.0.dev0,>=2.18.0->google-api-core->google-generativeai>=0.7.2) (3.3.2)\n",
            "Requirement already satisfied: idna<4,>=2.5 in /opt/anaconda3/lib/python3.12/site-packages (from requests<3.0.0.dev0,>=2.18.0->google-api-core->google-generativeai>=0.7.2) (3.7)\n",
            "Requirement already satisfied: urllib3<3,>=1.21.1 in /opt/anaconda3/lib/python3.12/site-packages (from requests<3.0.0.dev0,>=2.18.0->google-api-core->google-generativeai>=0.7.2) (2.2.3)\n",
            "Requirement already satisfied: certifi>=2017.4.17 in /opt/anaconda3/lib/python3.12/site-packages (from requests<3.0.0.dev0,>=2.18.0->google-api-core->google-generativeai>=0.7.2) (2024.8.30)\n"
          ]
        }
      ],
      "source": [
        "!pip install -U \"google-generativeai>=0.7.2\""
      ]
    },
    {
      "cell_type": "code",
      "execution_count": 4,
      "metadata": {
        "id": "d6lYXRcjthKV"
      },
      "outputs": [],
      "source": [
        "import google.generativeai as genai\n",
        "from dotenv import load_dotenv\n",
        "import os\n",
        "\n",
        "load_dotenv()\n",
        "genai.configure(api_key=os.getenv(\"GENAI_API_KEY\"))\n",
        " "
      ]
    },
    {
      "cell_type": "markdown",
      "metadata": {
        "id": "MNvhBdoDFnTC"
      },
      "source": [
        "## Upload a video to the Files API\n",
        "\n",
        "The Gemini API accepts video file formats directly. The File API accepts files under 2GB in size and can store up to 20GB of files per project. Files last for 2 days and cannot be downloaded from the API. For the example, you will use the short film \"Big Buck Bunny\".\n",
        "\n",
        "> \"Big Buck Bunny\" is (c) copyright 2008, Blender Foundation / www.bigbuckbunny.org and [licensed](https://peach.blender.org/about/) under the [Creative Commons Attribution 3.0](http://creativecommons.org/licenses/by/3.0/) License.\n",
        "\n",
        "Note: You can also [upload your own files](https://github.com/google-gemini/cookbook/blob/main/examples/Upload_files_to_Colab.ipynb) to use."
      ]
    },
    {
      "cell_type": "markdown",
      "metadata": {
        "id": "oOZmTUb4FWOa"
      },
      "source": [
        "## Get File\n",
        "\n",
        "After uploading the file, you can verify the API has successfully received the files by calling `files.get`.\n",
        "\n",
        "`files.get` lets you see the file uploaded to the File API that are associated with the Cloud project your API key belongs to. Only the `name` (and by extension, the `uri`) are unique."
      ]
    },
    {
      "cell_type": "code",
      "execution_count": 4,
      "metadata": {
        "id": "SHMVCWHkFhJW"
      },
      "outputs": [
        {
          "name": "stdout",
          "output_type": "stream",
          "text": [
            "Waiting for video to be processed.\n",
            "Video processing complete: https://generativelanguage.googleapis.com/v1beta/files/u9hwqc7yo4u9\n"
          ]
        }
      ],
      "source": [
        "import time\n",
        "\n",
        "while video_file.state.name == \"PROCESSING\":\n",
        "    print('Waiting for video to be processed.')\n",
        "    time.sleep(10)\n",
        "    video_file = genai.get_file(video_file.name)\n",
        "\n",
        "if video_file.state.name == \"FAILED\":\n",
        "  raise ValueError(video_file.state.name)\n",
        "print(f'Video processing complete: ' + video_file.uri)"
      ]
    },
    {
      "cell_type": "markdown",
      "metadata": {
        "id": "EPPOECHzsIGJ"
      },
      "source": [
        "## Generate Content\n",
        "\n",
        "After the video has been uploaded, you can make `GenerateContent` requests that reference the File API URI."
      ]
    },
    {
      "cell_type": "code",
      "execution_count": 5,
      "metadata": {
        "id": "5977cd76eccc"
      },
      "outputs": [
        {
          "name": "stdout",
          "output_type": "stream",
          "text": [
            "Making LLM inference request...\n",
            "The video is a animated short film called \"Big Buck Bunny\". It starts with a view of a beautiful, sunny forest, the camera moves down a small stream, past green grass and small flowers, to the edge of the forest, where a fat, purple bird is sitting on a branch. \n",
            "\n",
            "The bird looks up at the sky and flaps its wings, then the text \"The Peach Open Movie Project Presents\" appears on the screen. \n",
            "\n",
            "The next scene shows a large, gray rabbit coming out of a hole under a tree. He stretches and yawns, then he walks into a clearing and looks around. \n",
            "\n",
            "Suddenly, a pink butterfly appears and lands on the rabbit's nose. The rabbit is delighted by the butterfly and smiles, then he walks toward the center of the clearing. \n",
            "\n",
            "The video then cuts to three animals hiding behind a tree. The first animal is a small, brown squirrel with big blue eyes. The second is a red fox with a big, toothy smile. The third is a gray chinchilla, holding a brown nut. \n",
            "\n",
            "The rabbit notices them and walks towards them, but the squirrel runs up the tree and tries to hide. The fox and the chinchilla stay hidden behind the tree. \n",
            "\n",
            "The rabbit is surprised to see them, but then he smiles and starts to walk away. He picks up an apple from the ground and starts to eat it, then the squirrel jumps down from the tree and runs towards the rabbit. \n",
            "\n",
            "The rabbit throws the apple at the squirrel, and the squirrel catches it and flies off with it. The fox and the chinchilla come out from behind the tree and laugh. \n",
            "\n",
            "The rabbit looks up at the sky and smiles, then he walks back to his burrow. \n",
            "\n",
            "The video ends with a black screen, showing the names of the people who made the film. \n",
            "\n"
          ]
        }
      ],
      "source": [
        "# Create the prompt.\n",
        "prompt = \"Describe this video.\"\n",
        "\n",
        "# Set the model to Gemini 1.5 Flash.\n",
        "model = genai.GenerativeModel(model_name=\"models/gemini-1.5-flash\")\n",
        "\n",
        "# Make the LLM request.\n",
        "print(\"Making LLM inference request...\")\n",
        "response = model.generate_content([prompt, video_file],\n",
        "                                  request_options={\"timeout\": 600})\n",
        "print(response.text)"
      ]
    },
    {
      "cell_type": "code",
      "execution_count": null,
      "metadata": {},
      "outputs": [],
      "source": []
    },
    {
      "cell_type": "markdown",
      "metadata": {
        "id": "IrPDYdQSKTg4"
      },
      "source": [
        "## Delete File\n",
        "\n",
        "Files are automatically deleted after 2 days or you can manually delete them using `files.delete()`."
      ]
    },
    {
      "cell_type": "code",
      "execution_count": 6,
      "metadata": {
        "id": "ggoi6wibct18"
      },
      "outputs": [
        {
          "name": "stdout",
          "output_type": "stream",
          "text": [
            "Deleted file https://generativelanguage.googleapis.com/v1beta/files/u9hwqc7yo4u9\n"
          ]
        }
      ],
      "source": [
        "genai.delete_file(video_file.name)\n",
        "print(f'Deleted file {video_file.uri}')"
      ]
    },
    {
      "cell_type": "markdown",
      "metadata": {
        "id": "K5oUCqb6IUnH"
      },
      "source": [
        "## Next Steps\n",
        "### Useful API references:\n",
        "\n",
        "The File API lets you upload a variety of multimodal MIME types, including images, audio, and video formats. The File API handles inputs that can be used to generate content with [`model.generateContent`](https://ai.google.dev/api/rest/v1/models/generateContent) or [`model.streamGenerateContent`](https://ai.google.dev/api/rest/v1/models/streamGenerateContent).\n",
        "\n",
        "* Learn more about the [File API](../quickstarts/File_API.ipynb) with the quickstart.\n",
        "\n",
        "* Learn more about prompting with [media files](https://ai.google.dev/tutorials/prompting_with_media) in the docs, including the supported formats and maximum length.\n",
        "\n",
        "### Related examples\n",
        "\n",
        "Check those examples videos with the Gemini API to give you more ideas what you can do with them:\n",
        "* Analyze videos to [classify](../examples/Analyze_a_Video_Classification.ipynb) or [summarize](../examples/Analyze_a_Video_Summarization.ipynb) them\n",
        "* Have the Gemini API recognize an [historical moment](../examples/Analyze_a_Video_Historic_Event_Recognition.ipynb) and tell you more about it\n",
        "\n",
        "### Continue your discovery of the Gemini API\n",
        "\n",
        "If you're not already familiar with it, learn how [tokens are counted](../quickstarts/Counting_Tokens.ipynb). Then check how to use the File API to use [Audio files](../quickstarts/Audio.ipynb) with the Gemini API.\n"
      ]
    },
    {
      "cell_type": "code",
      "execution_count": 16,
      "metadata": {
        "vscode": {
          "languageId": "ruby"
        }
      },
      "outputs": [
        {
          "name": "stdout",
          "output_type": "stream",
          "text": [
            "Uploading file videosample.mp4...\n",
            "Completed upload: https://generativelanguage.googleapis.com/v1beta/files/71qku0d7xa1c\n",
            "Waiting for video to be processed.\n",
            "Video processing complete: https://generativelanguage.googleapis.com/v1beta/files/71qku0d7xa1c\n",
            "Making LLM inference request...\n",
            "This is a video interview between Chris Do, CEO of The Futur, and Marty Neumeier, author of “The Brand Gap.”  The topic of discussion is branding.\n",
            "\n",
            "The video opens with Chris Do introducing the topic, stating that people often use the terms “branding,” “logo design,” “identity design,” and “typography” interchangeably. He then asks Marty Neumeier for a definition of branding.\n",
            "\n",
            "Neumeier starts by explaining what branding is NOT.  Branding is not a logo (a logo is merely a symbol for a brand), a product, a promise (although it acts as one), or the sum of impressions a company makes on its audience.\n",
            "\n",
            "Rather, he defines branding as a result, a customer’s gut feeling about a product, service, or company. He explains that a brand is a reputation.  Each customer forms their own individual brand perception of a company, and the sum of those perceptions makes up the whole.  He indicates that everyone in a company has some effect on the brand.  The interview ends with Chris Do praising Neumeier’s concise and clear explanation.\n"
          ]
        }
      ],
      "source": [
        "import time\n",
        "\n",
        "# Upload the new video file\n",
        "new_video_file_name = \"videosample.mp4\"\n",
        "print(f\"Uploading file {new_video_file_name}...\")\n",
        "new_video_file = genai.upload_file(path=new_video_file_name)\n",
        "print(f\"Completed upload: {new_video_file.uri}\")\n",
        "\n",
        "# Wait for the video to be processed\n",
        "while new_video_file.state.name == \"PROCESSING\":\n",
        "    print('Waiting for video to be processed.')\n",
        "    time.sleep(10)\n",
        "    new_video_file = genai.get_file(new_video_file.name)\n",
        "\n",
        "if new_video_file.state.name == \"FAILED\":\n",
        "    raise ValueError(new_video_file.state.name)\n",
        "print(f'Video processing complete: ' + new_video_file.uri)\n",
        "\n",
        "# Create the prompt\n",
        "prompt = \"Describe this video.\"\n",
        "\n",
        "# Set the model to Gemini 1.5 Flash.\n",
        "model = genai.GenerativeModel(model_name=\"models/gemini-1.5-flash\")\n",
        "\n",
        "# Make the LLM request\n",
        "print(\"Making LLM inference request...\")\n",
        "response = model.generate_content([prompt, new_video_file],\n",
        "                                  request_options={\"timeout\": 600})\n",
        "print(response.text)"
      ]
    }
  ],
  "metadata": {
    "colab": {
      "name": "Video.ipynb",
      "toc_visible": true
    },
    "kernelspec": {
      "display_name": "Python 3",
      "name": "python3"
    },
    "language_info": {
      "codemirror_mode": {
        "name": "ipython",
        "version": 3
      },
      "file_extension": ".py",
      "mimetype": "text/x-python",
      "name": "python",
      "nbconvert_exporter": "python",
      "pygments_lexer": "ipython3",
      "version": "3.13.1"
    }
  },
  "nbformat": 4,
  "nbformat_minor": 0
}
