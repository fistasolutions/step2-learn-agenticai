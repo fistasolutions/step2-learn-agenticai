{
  "cells": [
    {
      "cell_type": "markdown",
      "metadata": {
        "id": "4BkXaeuqGFzD"
      },
      "source": [
        "# Code Execution in the Gemini API"
      ]
    },
    {
      "cell_type": "markdown",
      "metadata": {
        "id": "CDhVGsAHhwG5"
      },
      "source": [
        "The Gemini API [code execution](https://ai.google.dev/gemini-api/docs/code-execution) feature enables the model to generate and run Python code based on plain-text instructions that you give it. It can learn iteratively from the results until it arrives at a final output.\n",
        "\n",
        "This notebook is a walk through of how to use this feature."
      ]
    },
    {
      "cell_type": "markdown",
      "metadata": {
        "id": "kQoJWW8lM48-"
      },
      "source": [
        "### Set up"
      ]
    },
    {
      "cell_type": "code",
      "execution_count": 1,
      "metadata": {
        "id": "6rshwediCXto"
      },
      "outputs": [
        {
          "name": "stdout",
          "output_type": "stream",
          "text": [
            "Note: you may need to restart the kernel to use updated packages.\n"
          ]
        }
      ],
      "source": [
        "pip install -q -U google-generativeai"
      ]
    },
    {
      "cell_type": "code",
      "execution_count": 2,
      "metadata": {
        "id": "OsxWu_BI50Ex"
      },
      "outputs": [
        {
          "name": "stderr",
          "output_type": "stream",
          "text": [
            "/Library/Frameworks/Python.framework/Versions/3.13/lib/python3.13/site-packages/tqdm/auto.py:21: TqdmWarning: IProgress not found. Please update jupyter and ipywidgets. See https://ipywidgets.readthedocs.io/en/stable/user_install.html\n",
            "  from .autonotebook import tqdm as notebook_tqdm\n"
          ]
        },
        {
          "name": "stdout",
          "output_type": "stream",
          "text": [
            "My thoughts are to write a function that checks if a given number is prime, and then use it to generate the first 50 prime numbers and calculate their sum.\n",
            "\n",
            "\n",
            "``` python\n",
            "def is_prime(num):\n",
            "    \"\"\"Checks if a number is prime.\"\"\"\n",
            "    if num <= 1:\n",
            "        return False\n",
            "    for i in range(2, int(num**0.5) + 1):\n",
            "        if num % i == 0:\n",
            "            return False\n",
            "    return True\n",
            "\n",
            "def sum_of_n_primes(n):\n",
            "    primes = []\n",
            "    num = 2\n",
            "    while len(primes) < n:\n",
            "        if is_prime(num):\n",
            "            primes.append(num)\n",
            "        num += 1\n",
            "    return sum(primes)\n",
            "\n",
            "sum_of_50_primes = sum_of_n_primes(50)\n",
            "print(f'{sum_of_50_primes=}')\n",
            "\n",
            "```\n",
            "```\n",
            "sum_of_50_primes=5117\n",
            "\n",
            "```\n",
            "My findings are that the sum of the first 50 prime numbers is 5117.\n",
            "\n"
          ]
        }
      ],
      "source": [
        "import google.generativeai as genai\n",
        "import os\n",
        "from dotenv import load_dotenv\n",
        "\n",
        "load_dotenv()\n",
        "genai.configure(api_key=os.getenv('GENAI_API_KEY'))\n",
        "model = genai.GenerativeModel(\n",
        "    model_name='gemini-1.5-pro',\n",
        "    tools='code_execution')\n",
        "\n",
        "response = model.generate_content((\n",
        "    'What is the sum of the first 50 prime numbers? '\n",
        "    'Generate and run code for the calculation, and make sure you get all 50.'))\n",
        "\n",
        "print(response.text)"
      ]
    }
  ],
  "metadata": {
    "colab": {
      "collapsed_sections": [
        "kQoJWW8lM48-"
      ],
      "name": "Code_Execution.ipynb",
      "toc_visible": true
    },
    "kernelspec": {
      "display_name": "Python 3",
      "name": "python3"
    },
    "language_info": {
      "codemirror_mode": {
        "name": "ipython",
        "version": 3
      },
      "file_extension": ".py",
      "mimetype": "text/x-python",
      "name": "python",
      "nbconvert_exporter": "python",
      "pygments_lexer": "ipython3",
      "version": "3.13.1"
    }
  },
  "nbformat": 4,
  "nbformat_minor": 0
}
