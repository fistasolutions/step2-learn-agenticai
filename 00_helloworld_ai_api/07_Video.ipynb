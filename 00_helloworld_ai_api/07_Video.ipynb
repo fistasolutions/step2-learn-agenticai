{
  "cells": [
    {
      "cell_type": "markdown",
      "metadata": {
        "id": "084u8u0DpBlo"
      },
      "source": [
        "# Gemini API: Prompting with Video"
      ]
    },
    {
      "cell_type": "markdown",
      "metadata": {
        "id": "d5027929de8f"
      },
      "source": [
        "### Install dependencies"
      ]
    },
    {
      "cell_type": "code",
      "execution_count": 1,
      "metadata": {
        "id": "TwpXMTnpsoHC"
      },
      "outputs": [
        {
          "name": "stdout",
          "output_type": "stream",
          "text": [
            "Requirement already satisfied: google-generativeai>=0.7.2 in /opt/anaconda3/lib/python3.12/site-packages (0.8.3)\n",
            "Collecting google-generativeai>=0.7.2\n",
            "  Downloading google_generativeai-0.8.4-py3-none-any.whl.metadata (4.2 kB)\n",
            "Collecting google-ai-generativelanguage==0.6.15 (from google-generativeai>=0.7.2)\n",
            "  Downloading google_ai_generativelanguage-0.6.15-py3-none-any.whl.metadata (5.7 kB)\n",
            "Requirement already satisfied: google-api-core in /opt/anaconda3/lib/python3.12/site-packages (from google-generativeai>=0.7.2) (2.24.0)\n",
            "Requirement already satisfied: google-api-python-client in /opt/anaconda3/lib/python3.12/site-packages (from google-generativeai>=0.7.2) (2.158.0)\n",
            "Requirement already satisfied: google-auth>=2.15.0 in /opt/anaconda3/lib/python3.12/site-packages (from google-generativeai>=0.7.2) (2.37.0)\n",
            "Requirement already satisfied: protobuf in /opt/anaconda3/lib/python3.12/site-packages (from google-generativeai>=0.7.2) (5.29.3)\n",
            "Requirement already satisfied: pydantic in /opt/anaconda3/lib/python3.12/site-packages (from google-generativeai>=0.7.2) (2.10.5)\n",
            "Requirement already satisfied: tqdm in /opt/anaconda3/lib/python3.12/site-packages (from google-generativeai>=0.7.2) (4.66.5)\n",
            "Requirement already satisfied: typing-extensions in /opt/anaconda3/lib/python3.12/site-packages (from google-generativeai>=0.7.2) (4.12.2)\n",
            "Requirement already satisfied: proto-plus<2.0.0dev,>=1.22.3 in /opt/anaconda3/lib/python3.12/site-packages (from google-ai-generativelanguage==0.6.15->google-generativeai>=0.7.2) (1.25.0)\n",
            "Requirement already satisfied: googleapis-common-protos<2.0.dev0,>=1.56.2 in /opt/anaconda3/lib/python3.12/site-packages (from google-api-core->google-generativeai>=0.7.2) (1.66.0)\n",
            "Requirement already satisfied: requests<3.0.0.dev0,>=2.18.0 in /opt/anaconda3/lib/python3.12/site-packages (from google-api-core->google-generativeai>=0.7.2) (2.32.3)\n",
            "Requirement already satisfied: cachetools<6.0,>=2.0.0 in /opt/anaconda3/lib/python3.12/site-packages (from google-auth>=2.15.0->google-generativeai>=0.7.2) (5.3.3)\n",
            "Requirement already satisfied: pyasn1-modules>=0.2.1 in /opt/anaconda3/lib/python3.12/site-packages (from google-auth>=2.15.0->google-generativeai>=0.7.2) (0.2.8)\n",
            "Requirement already satisfied: rsa<5,>=3.1.4 in /opt/anaconda3/lib/python3.12/site-packages (from google-auth>=2.15.0->google-generativeai>=0.7.2) (4.9)\n",
            "Requirement already satisfied: httplib2<1.dev0,>=0.19.0 in /opt/anaconda3/lib/python3.12/site-packages (from google-api-python-client->google-generativeai>=0.7.2) (0.22.0)\n",
            "Requirement already satisfied: google-auth-httplib2<1.0.0,>=0.2.0 in /opt/anaconda3/lib/python3.12/site-packages (from google-api-python-client->google-generativeai>=0.7.2) (0.2.0)\n",
            "Requirement already satisfied: uritemplate<5,>=3.0.1 in /opt/anaconda3/lib/python3.12/site-packages (from google-api-python-client->google-generativeai>=0.7.2) (4.1.1)\n",
            "Requirement already satisfied: annotated-types>=0.6.0 in /opt/anaconda3/lib/python3.12/site-packages (from pydantic->google-generativeai>=0.7.2) (0.6.0)\n",
            "Requirement already satisfied: pydantic-core==2.27.2 in /opt/anaconda3/lib/python3.12/site-packages (from pydantic->google-generativeai>=0.7.2) (2.27.2)\n",
            "Requirement already satisfied: grpcio<2.0dev,>=1.33.2 in /opt/anaconda3/lib/python3.12/site-packages (from google-api-core[grpc]!=2.0.*,!=2.1.*,!=2.10.*,!=2.2.*,!=2.3.*,!=2.4.*,!=2.5.*,!=2.6.*,!=2.7.*,!=2.8.*,!=2.9.*,<3.0.0dev,>=1.34.1->google-ai-generativelanguage==0.6.15->google-generativeai>=0.7.2) (1.64.3)\n",
            "Requirement already satisfied: grpcio-status<2.0.dev0,>=1.33.2 in /opt/anaconda3/lib/python3.12/site-packages (from google-api-core[grpc]!=2.0.*,!=2.1.*,!=2.10.*,!=2.2.*,!=2.3.*,!=2.4.*,!=2.5.*,!=2.6.*,!=2.7.*,!=2.8.*,!=2.9.*,<3.0.0dev,>=1.34.1->google-ai-generativelanguage==0.6.15->google-generativeai>=0.7.2) (1.64.3)\n",
            "Requirement already satisfied: pyparsing!=3.0.0,!=3.0.1,!=3.0.2,!=3.0.3,<4,>=2.4.2 in /opt/anaconda3/lib/python3.12/site-packages (from httplib2<1.dev0,>=0.19.0->google-api-python-client->google-generativeai>=0.7.2) (3.1.2)\n",
            "Requirement already satisfied: pyasn1<0.5.0,>=0.4.6 in /opt/anaconda3/lib/python3.12/site-packages (from pyasn1-modules>=0.2.1->google-auth>=2.15.0->google-generativeai>=0.7.2) (0.4.8)\n",
            "Requirement already satisfied: charset-normalizer<4,>=2 in /opt/anaconda3/lib/python3.12/site-packages (from requests<3.0.0.dev0,>=2.18.0->google-api-core->google-generativeai>=0.7.2) (3.3.2)\n",
            "Requirement already satisfied: idna<4,>=2.5 in /opt/anaconda3/lib/python3.12/site-packages (from requests<3.0.0.dev0,>=2.18.0->google-api-core->google-generativeai>=0.7.2) (3.7)\n",
            "Requirement already satisfied: urllib3<3,>=1.21.1 in /opt/anaconda3/lib/python3.12/site-packages (from requests<3.0.0.dev0,>=2.18.0->google-api-core->google-generativeai>=0.7.2) (2.2.3)\n",
            "Requirement already satisfied: certifi>=2017.4.17 in /opt/anaconda3/lib/python3.12/site-packages (from requests<3.0.0.dev0,>=2.18.0->google-api-core->google-generativeai>=0.7.2) (2024.8.30)\n",
            "Downloading google_generativeai-0.8.4-py3-none-any.whl (175 kB)\n",
            "Downloading google_ai_generativelanguage-0.6.15-py3-none-any.whl (1.3 MB)\n",
            "\u001b[2K   \u001b[90m━━━━━━━━━━━━━━━━━━━━━━━━━━━━━━━━━━━━━━━━\u001b[0m \u001b[32m1.3/1.3 MB\u001b[0m \u001b[31m4.7 MB/s\u001b[0m eta \u001b[36m0:00:00\u001b[0m-:--:--\u001b[0m\n",
            "\u001b[?25hInstalling collected packages: google-ai-generativelanguage, google-generativeai\n",
            "  Attempting uninstall: google-ai-generativelanguage\n",
            "    Found existing installation: google-ai-generativelanguage 0.6.10\n",
            "    Uninstalling google-ai-generativelanguage-0.6.10:\n",
            "      Successfully uninstalled google-ai-generativelanguage-0.6.10\n",
            "  Attempting uninstall: google-generativeai\n",
            "    Found existing installation: google-generativeai 0.8.3\n",
            "    Uninstalling google-generativeai-0.8.3:\n",
            "      Successfully uninstalled google-generativeai-0.8.3\n",
            "Successfully installed google-ai-generativelanguage-0.6.15 google-generativeai-0.8.4\n"
          ]
        }
      ],
      "source": [
        "!pip install -U \"google-generativeai>=0.7.2\""
      ]
    },
    {
      "cell_type": "code",
      "execution_count": 4,
      "metadata": {
        "id": "d6lYXRcjthKV"
      },
      "outputs": [
        {
          "name": "stderr",
          "output_type": "stream",
          "text": [
            "/Library/Frameworks/Python.framework/Versions/3.13/lib/python3.13/site-packages/tqdm/auto.py:21: TqdmWarning: IProgress not found. Please update jupyter and ipywidgets. See https://ipywidgets.readthedocs.io/en/stable/user_install.html\n",
            "  from .autonotebook import tqdm as notebook_tqdm\n"
          ]
        },
        {
          "name": "stdout",
          "output_type": "stream",
          "text": [
            "Uploading file videosample.mp4...\n",
            "Completed upload: https://generativelanguage.googleapis.com/v1beta/files/j9zgzsvylb6g\n",
            "Waiting for video to be processed.\n",
            "Video processing complete: https://generativelanguage.googleapis.com/v1beta/files/j9zgzsvylb6g\n",
            "Making LLM inference request...\n",
            "This is a video of an interview between Chris Do, CEO of The Futur, and Marty Neumeier, author of “The Brand Gap.”  The two men sit on a couch in a brightly lit room.  A boom microphone is positioned between them.  \n",
            "\n",
            "The conversation focuses on branding.  Neumeier defines what branding is not, clarifying that it isn’t a logo, product, promise, or the sum of impressions made on an audience. Instead, he says, branding is a result, a customer’s gut feeling about a product, service or company. It’s a reputation, a business’s reputation that is different for every customer.  Ultimately, he explains, branding affects nearly every aspect of a business.\n"
          ]
        }
      ],
      "source": [
        "import google.generativeai as genai\n",
        "from dotenv import load_dotenv\n",
        "import os\n",
        "\n",
        "load_dotenv()\n",
        "genai.configure(api_key=os.getenv(\"GENAI_API_KEY\"))\n",
        "\n",
        "import time\n",
        "\n",
        "# Upload the new video file\n",
        "new_video_file_name = \"videosample.mp4\"\n",
        "print(f\"Uploading file {new_video_file_name}...\")\n",
        "new_video_file = genai.upload_file(path=new_video_file_name)\n",
        "print(f\"Completed upload: {new_video_file.uri}\")\n",
        "\n",
        "# Wait for the video to be processed\n",
        "while new_video_file.state.name == \"PROCESSING\":\n",
        "    print('Waiting for video to be processed.')\n",
        "    time.sleep(10)\n",
        "    new_video_file = genai.get_file(new_video_file.name)\n",
        "\n",
        "if new_video_file.state.name == \"FAILED\":\n",
        "    raise ValueError(new_video_file.state.name)\n",
        "print(f'Video processing complete: ' + new_video_file.uri)\n",
        "\n",
        "# Create the prompt\n",
        "prompt = \"Describe this video.\"\n",
        "\n",
        "# Set the model to Gemini 1.5 Flash.\n",
        "model = genai.GenerativeModel(model_name=\"models/gemini-1.5-flash\")\n",
        "\n",
        "# Make the LLM request\n",
        "print(\"Making LLM inference request...\")\n",
        "response = model.generate_content([prompt, new_video_file],\n",
        "                                  request_options={\"timeout\": 600})\n",
        "print(response.text)\n",
        " "
      ]
    }
  ],
  "metadata": {
    "colab": {
      "name": "Video.ipynb",
      "toc_visible": true
    },
    "kernelspec": {
      "display_name": "Python 3",
      "name": "python3"
    },
    "language_info": {
      "codemirror_mode": {
        "name": "ipython",
        "version": 3
      },
      "file_extension": ".py",
      "mimetype": "text/x-python",
      "name": "python",
      "nbconvert_exporter": "python",
      "pygments_lexer": "ipython3",
      "version": "3.13.1"
    }
  },
  "nbformat": 4,
  "nbformat_minor": 0
}
