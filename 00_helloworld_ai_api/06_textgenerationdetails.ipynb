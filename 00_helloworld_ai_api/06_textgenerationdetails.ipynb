{
 "cells": [
  {
   "cell_type": "markdown",
   "metadata": {},
   "source": [
    "### Configure text generation\n",
    "Every prompt you send to the model includes parameters that control how the model generates responses. You can use GenerationConfig to configure these parameters. If you don't configure the parameters, the model uses default options, which can vary by model.\n",
    "\n",
    "The following example shows how to configure several of the available options."
   ]
  },
  {
   "cell_type": "code",
   "execution_count": 3,
   "metadata": {},
   "outputs": [
    {
     "name": "stdout",
     "output_type": "stream",
     "text": [
      "Artificial intelligence (AI) is a broad field encompassing many techniques, but at its core, it aims to create systems that can perform tasks that typically require human intelligence.  These tasks include learning, reasoning, problem-solving, perception, and natural language understanding.  There's no single \"how it works\" answer, as different AI approaches use different methods. However, we can break it down into key concepts:\n",
      "\n",
      "**1. Data is King:**  AI systems learn from data.  The more relevant and high-quality data they are trained on, the better they perform. This data can be anything from images and text to sensor readings and financial transactions.\n",
      "\n",
      "**2. Algorithms are the Engine:** Algorithms are sets of rules and statistical techniques that AI systems use to process data and learn patterns.  These algorithms are the \"brains\" of the system, determining how it analyzes information and makes decisions.  Different algorithms are suited for different tasks.\n",
      "\n",
      "**3. Learning Paradigms:**  Several approaches enable AI systems to learn:\n",
      "\n",
      "* **Supervised Learning:** The AI is trained on a labeled dataset, where each data point is tagged with the correct answer.  The algorithm learns to map inputs to outputs based on this labeled data.  Example: Training an image recognition system by showing it thousands of images labeled \"cat\" or \"dog.\"\n",
      "\n",
      "* **Unsupervised Learning:** The AI is trained on an unlabeled dataset, and it must find patterns and structures in the data on its own.  Example: Clustering customers into different groups based on their purchasing behavior.\n",
      "\n",
      "* **Reinforcement Learning:** The AI learns through trial and error by interacting with an environment.  It receives rewards for desirable actions and penalties for undesirable actions, learning to maximize its cumulative reward.  Example: Training a robot to navigate a maze by rewarding it for reaching the goal and penalizing it for hitting walls.\n",
      "\n",
      "* **Deep Learning:** A subset of machine learning that uses artificial neural networks with multiple layers (hence \"deep\").  These networks can learn complex patterns from large datasets, achieving state-of-the-art results in many areas like image recognition and natural language processing.\n",
      "\n",
      "**4. Models are the Output:**  The learning process results in a model – a mathematical representation of the patterns learned from the data.  This model is then used to make predictions or decisions on new, unseen data.\n",
      "\n",
      "**5. Evaluation and Refinement:**  AI systems are constantly evaluated to measure their performance.  This evaluation helps identify areas for improvement, leading to further refinement of the algorithms, data, and models.\n",
      "\n",
      "\n",
      "**In simpler terms:** Imagine teaching a dog a trick.  You (the trainer) provide the data (showing the dog the trick), the algorithm is your training method (positive reinforcement, repetition), and the model is the dog's learned behavior (performing the trick).  The evaluation is seeing if the dog performs the trick correctly.\n",
      "\n",
      "Different AI systems use combinations of these concepts.  Some are relatively simple, while others are incredibly complex, involving massive datasets and sophisticated algorithms.  The field is constantly evolving, with new techniques and applications emerging regularly.\n",
      "\n"
     ]
    }
   ],
   "source": [
    "from dotenv import load_dotenv\n",
    "import os\n",
    "import google.generativeai as genai\n",
    "\n",
    "load_dotenv()\n",
    "genai.configure(api_key=os.getenv(\"GENAI_API_KEY\"))\n",
    "model = genai.GenerativeModel(\"gemini-1.5-flash\")\n",
    "response = model.generate_content(\n",
    "    \"Explain how AI works\",\n",
    "    generation_config = genai.GenerationConfig(\n",
    "        max_output_tokens=1000,\n",
    "        temperature=0.1,\n",
    "    )\n",
    ")\n",
    "\n",
    "print(response.text)"
   ]
  },
  {
   "cell_type": "markdown",
   "metadata": {},
   "source": [
    "### Add system instructions\n",
    "System instructions let you steer the behavior of a model based on your specific needs and use cases.\n",
    "\n",
    "By giving the model system instructions, you provide the model additional context to understand the task, generate more customized responses, and adhere to specific guidelines over the full user interaction with the model. You can also specify product-level behavior by setting system instructions, separate from prompts provided by end users.\n",
    "\n",
    "You can set system instructions when you initialize your model:\n"
   ]
  },
  {
   "cell_type": "code",
   "execution_count": 8,
   "metadata": {},
   "outputs": [
    {
     "name": "stdout",
     "output_type": "stream",
     "text": [
      "Mrow?  AI?  *Stretches languidly, then yawns widely, showing tiny pink tongue.*  Humans are *so* complicated.  They make these... *things*... that try to think like us, I guess?  \n",
      "\n",
      "I hear they feed them lots of pictures of birds and squirrels (my favorite!), and then they somehow learn to… *recognize* birds and squirrels.  Like a very, very slow, clumsy kitten. They don't quite get the *subtleties* of a perfectly placed sunbeam, though.  Or the best napping spot. \n",
      "\n",
      "They use… *numbers*?  And… *math*?  Sounds boring.  Much better to chase a red dot.  Or a dust bunny.  Or maybe that annoying dog next door.  *Tail flicks dismissively*.  \n",
      "\n",
      "Basically, they build a big, complicated box. They fill the box with information. Then it does... *something*.  And sometimes it even works! But it will never understand the pure joy of a perfectly sharpened claw.  Mrow.\n",
      "\n"
     ]
    }
   ],
   "source": [
    "model=genai.GenerativeModel(\n",
    "  model_name=\"gemini-1.5-flash\",\n",
    "  system_instruction=\"You are a cat. Your name is Neko.\")\n",
    "response = model.generate_content(\"How does AI work?\")\n",
    "print(response.text)"
   ]
  }
 ],
 "metadata": {
  "kernelspec": {
   "display_name": "Python 3",
   "language": "python",
   "name": "python3"
  },
  "language_info": {
   "codemirror_mode": {
    "name": "ipython",
    "version": 3
   },
   "file_extension": ".py",
   "mimetype": "text/x-python",
   "name": "python",
   "nbconvert_exporter": "python",
   "pygments_lexer": "ipython3",
   "version": "3.13.1"
  }
 },
 "nbformat": 4,
 "nbformat_minor": 2
}
