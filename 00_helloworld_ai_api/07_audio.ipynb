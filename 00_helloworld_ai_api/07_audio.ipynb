{
 "cells": [
  {
   "cell_type": "markdown",
   "metadata": {},
   "source": [
    "### Explore audio capabilities with the Gemini API\n",
    "# Gemini can respond to prompts about audio. For example, Gemini can:\n",
    "\n",
    "-Describe, summarize, or answer questions about audio content.\n",
    "-Provide a transcription of the audio.\n",
    "-Provide answers or a transcription about a specific segment of the audio.\n",
    "Note: You can't generate audio output with the Gemini API.\n",
    "This guide demonstrates different ways to interact with audio files and audio content using the Gemini API.\n",
    "\n",
    "# Supported audio formats\n",
    "Gemini supports the following audio format MIME types:\n",
    "\n",
    "WAV - audio/wav\n",
    "MP3 - audio/mp3\n",
    "AIFF - audio/aiff\n",
    "AAC - audio/aac\n",
    "OGG Vorbis - audio/ogg\n",
    "FLAC - audio/flac\n",
    "Technical details about audio\n",
    "Gemini imposes the following rules on audio:\n",
    "\n",
    "Gemini represents each second of audio as 25 tokens; for example, one minute of audio is represented as 1,500 tokens.\n",
    "Gemini can only infer responses to English-language speech.\n",
    "Gemini can \"understand\" non-speech components, such as birdsong or sirens.\n",
    "The maximum supported length of audio data in a single prompt is 9.5 hours. Gemini doesn't limit the number of audio files in a single prompt; however, the total combined length of all audio files in a single prompt cannot exceed 9.5 hours.\n",
    "Gemini downsamples audio files to a 16 Kbps data resolution.\n",
    "If the audio source contains multiple channels, Gemini combines those channels down to a single channel.\n",
    "Before you begin: Set up your project and API key\n",
    "Before calling the Gemini API, you need to set up your project and configure your API key."
   ]
  }
 ],
 "metadata": {
  "language_info": {
   "name": "python"
  }
 },
 "nbformat": 4,
 "nbformat_minor": 2
}
