{
 "cells": [
  {
   "cell_type": "markdown",
   "metadata": {},
   "source": [
    "### Explore audio capabilities with the Gemini API\n",
    "# Gemini can respond to prompts about audio. For example, Gemini can:\n",
    "\n",
    "-Describe, summarize, or answer questions about audio content.\n",
    "-Provide a transcription of the audio.\n",
    "-Provide answers or a transcription about a specific segment of the audio.\n",
    "Note: You can't generate audio output with the Gemini API.\n",
    "This guide demonstrates different ways to interact with audio files and audio content using the Gemini API.\n",
    "\n",
    "# Supported audio formats\n",
    "Gemini supports the following audio format MIME types:\n",
    "\n",
    "WAV - audio/wav\n",
    "MP3 - audio/mp3\n",
    "AIFF - audio/aiff\n",
    "AAC - audio/aac\n",
    "OGG Vorbis - audio/ogg\n",
    "FLAC - audio/flac\n",
    "Technical details about audio\n",
    "Gemini imposes the following rules on audio:\n",
    "\n",
    "Gemini represents each second of audio as 25 tokens; for example, one minute of audio is represented as 1,500 tokens.\n",
    "Gemini can only infer responses to English-language speech.\n",
    "Gemini can \"understand\" non-speech components, such as birdsong or sirens.\n",
    "The maximum supported length of audio data in a single prompt is 9.5 hours. Gemini doesn't limit the number of audio files in a single prompt; however, the total combined length of all audio files in a single prompt cannot exceed 9.5 hours.\n",
    "Gemini downsamples audio files to a 16 Kbps data resolution.\n",
    "If the audio source contains multiple channels, Gemini combines those channels down to a single channel.\n",
    "Before you begin: Set up your project and API key\n",
    "Before calling the Gemini API, you need to set up your project and configure your API key."
   ]
  },
  {
   "cell_type": "code",
   "execution_count": 1,
   "metadata": {},
   "outputs": [
    {
     "name": "stdout",
     "output_type": "stream",
     "text": [
      "Note: you may need to restart the kernel to use updated packages.\n"
     ]
    }
   ],
   "source": [
    "pip install -q -U google-generativeai"
   ]
  },
  {
   "cell_type": "code",
   "execution_count": 3,
   "metadata": {},
   "outputs": [
    {
     "name": "stdout",
     "output_type": "stream",
     "text": [
      "myfile=genai.File({\n",
      "    'name': 'files/25qvpa7wotx3',\n",
      "    'display_name': 'motivational.mp3',\n",
      "    'mime_type': 'audio/mpeg',\n",
      "    'sha256_hash': 'OTMzNDk0ZmMyYmU5NWRiMzhjNmFjYTc5NjkxZGQ0NDY2MjIzZDgyMDI2NzUwN2FhYWU1NGU2MGIzYWE3NTIyZQ==',\n",
      "    'size_bytes': '21739928',\n",
      "    'state': 'ACTIVE',\n",
      "    'uri': 'https://generativelanguage.googleapis.com/v1beta/files/25qvpa7wotx3',\n",
      "    'create_time': '2025-01-23T19:50:14.527006Z',\n",
      "    'expiration_time': '2025-01-25T19:50:14.444817898Z',\n",
      "    'update_time': '2025-01-23T19:50:14.527006Z'})\n",
      "This audio clip is a motivational speech focusing on the importance of perseverance, discipline, and taking ownership of one's life.  The speaker uses several analogies and examples to illustrate his points.  Here's a summary:\n",
      "\n",
      "\n",
      "**Core Themes:**\n",
      "\n",
      "* **Embrace Failure:** The speech begins by emphasizing that failure is an inevitable part of life, a stepping stone to eventual success.  It's not about avoiding failure, but learning from it.\n",
      "* **Action over Inaction:**  The speaker urges listeners to take action, to move towards challenges, and to attack them head-on. Inaction leads to regret and stagnation.\n",
      "* **Discipline and Freedom:**  The core message links self-discipline to freedom.  Lack of discipline in various areas of life—health, finances, time management—results in being a \"slave\" to those aspects.  Discipline, on the other hand, leads to freedom.\n",
      "* **Extreme Ownership:** Taking full responsibility for one's actions and outcomes, even failures, is crucial for growth and progress.  Avoid making excuses.\n",
      "* **Emotional Balance:** The speech acknowledges the importance of acknowledging emotions but cautions against letting them control one's decisions.  Finding a balance is key.\n",
      "\n",
      "\n",
      "**Analogies and Examples:**\n",
      "\n",
      "* **SEAL training:** The speaker uses the example of SEAL training to illustrate the point that most people quit, not because of an insurmountable obstacle, but because they choose to.\n",
      "* **Being lost in the woods:** This analogy encourages taking action even when unsure of the path.  Simply starting to walk is better than remaining stagnant.\n",
      "\n",
      "\n",
      "**Overall Tone:**\n",
      "\n",
      "The speech is intense, motivational, and direct.  It's designed to inspire listeners to overcome challenges and take control of their lives through discipline and a commitment to action.\n",
      "\n"
     ]
    }
   ],
   "source": [
    "import google.generativeai as genai\n",
    "import os\n",
    "from dotenv import load_dotenv\n",
    "\n",
    "load_dotenv()\n",
    "genai.configure(api_key=os.getenv(\"GEMINI_API_KEY\"))\n",
    "model=genai.GenerativeModel(\"gemini-1.5-flash\")\n",
    "\n",
    "myfile = genai.upload_file(\"motivational.mp3\")\n",
    "print(f\"{myfile=}\")\n",
    "\n",
    "result = model.generate_content([myfile, \"Describe this audio clip\"])\n",
    "print(result.text)"
   ]
  }
 ],
 "metadata": {
  "kernelspec": {
   "display_name": "Python 3",
   "language": "python",
   "name": "python3"
  },
  "language_info": {
   "codemirror_mode": {
    "name": "ipython",
    "version": 3
   },
   "file_extension": ".py",
   "mimetype": "text/x-python",
   "name": "python",
   "nbconvert_exporter": "python",
   "pygments_lexer": "ipython3",
   "version": "3.13.1"
  }
 },
 "nbformat": 4,
 "nbformat_minor": 2
}
