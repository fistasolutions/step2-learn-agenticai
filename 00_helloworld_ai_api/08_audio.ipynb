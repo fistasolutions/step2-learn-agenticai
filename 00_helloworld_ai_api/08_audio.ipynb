{
 "cells": [
  {
   "cell_type": "markdown",
   "metadata": {},
   "source": [
    "### Explore audio capabilities with the Gemini API\n",
    "# Gemini can respond to prompts about audio. For example, Gemini can:\n",
    "\n",
    "-Describe, summarize, or answer questions about audio content.\n",
    "-Provide a transcription of the audio.\n",
    "-Provide answers or a transcription about a specific segment of the audio.\n",
    "Note: You can't generate audio output with the Gemini API.\n",
    "This guide demonstrates different ways to interact with audio files and audio content using the Gemini API.\n",
    "\n",
    "# Supported audio formats\n",
    "Gemini supports the following audio format MIME types:\n",
    "\n",
    "WAV - audio/wav\n",
    "MP3 - audio/mp3\n",
    "AIFF - audio/aiff\n",
    "AAC - audio/aac\n",
    "OGG Vorbis - audio/ogg\n",
    "FLAC - audio/flac\n",
    "Technical details about audio\n",
    "Gemini imposes the following rules on audio:\n",
    "\n",
    "Gemini represents each second of audio as 25 tokens; for example, one minute of audio is represented as 1,500 tokens.\n",
    "Gemini can only infer responses to English-language speech.\n",
    "Gemini can \"understand\" non-speech components, such as birdsong or sirens.\n",
    "The maximum supported length of audio data in a single prompt is 9.5 hours. Gemini doesn't limit the number of audio files in a single prompt; however, the total combined length of all audio files in a single prompt cannot exceed 9.5 hours.\n",
    "Gemini downsamples audio files to a 16 Kbps data resolution.\n",
    "If the audio source contains multiple channels, Gemini combines those channels down to a single channel.\n",
    "Before you begin: Set up your project and API key\n",
    "Before calling the Gemini API, you need to set up your project and configure your API key."
   ]
  },
  {
   "cell_type": "code",
   "execution_count": 1,
   "metadata": {},
   "outputs": [
    {
     "name": "stdout",
     "output_type": "stream",
     "text": [
      "Note: you may need to restart the kernel to use updated packages.\n"
     ]
    }
   ],
   "source": [
    "pip install -q -U google-generativeai"
   ]
  },
  {
   "cell_type": "code",
   "execution_count": 2,
   "metadata": {},
   "outputs": [
    {
     "name": "stderr",
     "output_type": "stream",
     "text": [
      "/Library/Frameworks/Python.framework/Versions/3.13/lib/python3.13/site-packages/tqdm/auto.py:21: TqdmWarning: IProgress not found. Please update jupyter and ipywidgets. See https://ipywidgets.readthedocs.io/en/stable/user_install.html\n",
      "  from .autonotebook import tqdm as notebook_tqdm\n"
     ]
    },
    {
     "name": "stdout",
     "output_type": "stream",
     "text": [
      "myfile=genai.File({\n",
      "    'name': 'files/vq9wbvuy3vfm',\n",
      "    'display_name': 'motivational.mp3',\n",
      "    'mime_type': 'audio/mpeg',\n",
      "    'sha256_hash': 'OTMzNDk0ZmMyYmU5NWRiMzhjNmFjYTc5NjkxZGQ0NDY2MjIzZDgyMDI2NzUwN2FhYWU1NGU2MGIzYWE3NTIyZQ==',\n",
      "    'size_bytes': '21739928',\n",
      "    'state': 'ACTIVE',\n",
      "    'uri': 'https://generativelanguage.googleapis.com/v1beta/files/vq9wbvuy3vfm',\n",
      "    'create_time': '2025-01-23T19:49:16.624963Z',\n",
      "    'expiration_time': '2025-01-25T19:49:16.542671409Z',\n",
      "    'update_time': '2025-01-23T19:49:16.624963Z'})\n",
      "result.text='This audio clip is a motivational speech, likely aimed at men, focusing on the importance of discipline and overcoming challenges to achieve freedom and success.  Here\\'s a breakdown of the key themes:\\n\\n* **Embrace Failure, Achieve Victory:** The speaker emphasizes that failure is an inevitable part of life, and that repeated failures ultimately lead to success.  This is presented as a necessary path to growth and achievement.\\n\\n* **Action over Inaction:** The speaker strongly advocates for taking action and confronting challenges head-on, even if it\\'s difficult. Inaction is presented as a path to stagnation and a life of mere existence rather than living fully.\\n\\n* **Discipline and Freedom:**  The core message revolves around the idea that discipline leads to freedom.  This applies to various aspects of life, such as health, finances, and time management.  A lack of discipline results in being a \"slave\" to unhealthy habits, financial difficulties, or lack of free time.\\n\\n* **Extreme Ownership:** The speaker promotes taking ownership of one\\'s failures and successes, attributing the results to oneself rather than blaming external factors. This self-accountability is seen as crucial for growth.\\n\\n* **Emotional Regulation:** While acknowledging the importance of experiencing emotions, the speaker stresses the need to manage and control them.  Allowing emotions to dictate one\\'s actions is viewed negatively.  The ideal is balance; not suppressing feelings, but not letting them control one\\'s life.\\n\\n* **The Importance of Balance:** The speech concludes by advocating for balance in all areas of life, including emotional regulation, and avoiding extremes.\\n\\n* **Taking Action in Uncertainty:** Even if one feels lost and unsure, the speaker urges taking a step forward, as remaining stagnant only leads to further negative outcomes.\\n\\nThe speech is delivered with a powerful and determined tone, emphasizing the speaker\\'s belief in the importance of effort, resilience, and self-control in achieving success.  The use of strong, repetitive phrases like \"you\\'re going to fail\" serves to drive home the message of perseverence.\\n'\n"
     ]
    }
   ],
   "source": [
    "import google.generativeai as genai\n",
    "import os\n",
    "from dotenv import load_dotenv\n",
    "\n",
    "load_dotenv()\n",
    "genai.configure(api_key=os.getenv(\"GEMINI_API_KEY\"))\n",
    "model=genai.GenerativeModel(\"gemini-1.5-flash\")\n",
    "\n",
    "myfile = genai.upload_file(\"motivational.mp3\")\n",
    "print(f\"{myfile=}\")\n",
    "\n",
    "result = model.generate_content([myfile, \"Describe this audio clip\"])\n",
    "print(result.text)"
   ]
  }
 ],
 "metadata": {
  "kernelspec": {
   "display_name": "Python 3",
   "language": "python",
   "name": "python3"
  },
  "language_info": {
   "codemirror_mode": {
    "name": "ipython",
    "version": 3
   },
   "file_extension": ".py",
   "mimetype": "text/x-python",
   "name": "python",
   "nbconvert_exporter": "python",
   "pygments_lexer": "ipython3",
   "version": "3.13.1"
  }
 },
 "nbformat": 4,
 "nbformat_minor": 2
}
