{
 "cells": [
  {
   "cell_type": "markdown",
   "metadata": {},
   "source": [
    "### Generate structured output with the Gemini API\n",
    "\n",
    "Gemini generates unstructured text by default, but some applications require structured text. For these use cases, you can constrain Gemini to respond with JSON, a structured data format suitable for automated processing. You can also constrain the model to respond with one of the options specified in an enum.\n",
    "\n",
    "Here are a few use cases that might require structured output from the model:\n",
    "\n",
    "Build a database of companies by pulling company information out of newspaper articles.\n",
    "Pull standardized information out of resumes.\n",
    "Extract ingredients from recipes and display a link to a grocery website for each ingredient.\n",
    "In your prompt, you can ask Gemini to produce JSON-formatted output, but note that the model is not guaranteed to produce JSON and nothing but JSON. For a more deterministic response, you can pass a specific JSON schema in a responseSchema field so that Gemini always responds with an expected structure.\n",
    "\n",
    "This guide shows you how to generate JSON using the generateContent method through the SDK of your choice or using the REST API directly. The examples show text-only input, although Gemini can also produce JSON responses to multimodal requests that include images, videos, and audio.\n",
    "\n",
    "Generate JSON\n",
    "When the model is configured to output JSON, it responds to any prompt with JSON-formatted output.\n",
    "\n",
    "You can control the structure of the JSON response by supplying a schema. There are two ways to supply a schema to the model:\n",
    "\n",
    "As text in the prompt\n",
    "As a structured schema supplied through model configuration\n",
    "Both approaches work in both Gemini 1.5 Flash and Gemini 1.5 Pro.\n",
    "\n",
    "Supply a schema as text in the prompt\n",
    "The following example prompts the model to return cookie recipes in a specific JSON format.\n",
    "\n",
    "Since the model gets the format specification from text in the prompt, you may have some flexibility in how you represent the specification. Any reasonable format for representing a JSON schema may work.\n",
    "\n",
    "\n"
   ]
  }
 ],
 "metadata": {
  "language_info": {
   "name": "python"
  }
 },
 "nbformat": 4,
 "nbformat_minor": 2
}
