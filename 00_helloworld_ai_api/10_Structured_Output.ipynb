{
 "cells": [
  {
   "cell_type": "markdown",
   "metadata": {},
   "source": [
    "### Generate structured output with the Gemini API\n",
    "\n",
    "Gemini generates unstructured text by default, but some applications require structured text. For these use cases, you can constrain Gemini to respond with JSON, a structured data format suitable for automated processing. You can also constrain the model to respond with one of the options specified in an enum.\n",
    "\n",
    "Here are a few use cases that might require structured output from the model:\n",
    "\n",
    "Build a database of companies by pulling company information out of newspaper articles.\n",
    "Pull standardized information out of resumes.\n",
    "Extract ingredients from recipes and display a link to a grocery website for each ingredient.\n",
    "In your prompt, you can ask Gemini to produce JSON-formatted output, but note that the model is not guaranteed to produce JSON and nothing but JSON. For a more deterministic response, you can pass a specific JSON schema in a responseSchema field so that Gemini always responds with an expected structure.\n",
    "\n",
    "This guide shows you how to generate JSON using the generateContent method through the SDK of your choice or using the REST API directly. The examples show text-only input, although Gemini can also produce JSON responses to multimodal requests that include images, videos, and audio.\n",
    "\n",
    "Generate JSON\n",
    "When the model is configured to output JSON, it responds to any prompt with JSON-formatted output.\n",
    "\n",
    "You can control the structure of the JSON response by supplying a schema. There are two ways to supply a schema to the model:\n",
    "\n",
    "As text in the prompt\n",
    "As a structured schema supplied through model configuration\n",
    "Both approaches work in both Gemini 1.5 Flash and Gemini 1.5 Pro.\n",
    "\n",
    "Supply a schema as text in the prompt\n",
    "The following example prompts the model to return cookie recipes in a specific JSON format.\n",
    "\n",
    "Since the model gets the format specification from text in the prompt, you may have some flexibility in how you represent the specification. Any reasonable format for representing a JSON schema may work."
   ]
  },
  {
   "cell_type": "code",
   "execution_count": 1,
   "metadata": {},
   "outputs": [
    {
     "name": "stdout",
     "output_type": "stream",
     "text": [
      "Note: you may need to restart the kernel to use updated packages.\n"
     ]
    }
   ],
   "source": [
    "pip install -q -U google.generativeai"
   ]
  },
  {
   "cell_type": "code",
   "execution_count": 2,
   "metadata": {},
   "outputs": [
    {
     "name": "stderr",
     "output_type": "stream",
     "text": [
      "/Library/Frameworks/Python.framework/Versions/3.13/lib/python3.13/site-packages/tqdm/auto.py:21: TqdmWarning: IProgress not found. Please update jupyter and ipywidgets. See https://ipywidgets.readthedocs.io/en/stable/user_install.html\n",
      "  from .autonotebook import tqdm as notebook_tqdm\n"
     ]
    },
    {
     "name": "stdout",
     "output_type": "stream",
     "text": [
      "response:\n",
      "GenerateContentResponse(\n",
      "    done=True,\n",
      "    iterator=None,\n",
      "    result=protos.GenerateContentResponse({\n",
      "      \"candidates\": [\n",
      "        {\n",
      "          \"content\": {\n",
      "            \"parts\": [\n",
      "              {\n",
      "                \"text\": \"```json\\n[\\n  {\\n    \\\"recipe_name\\\": \\\"Chocolate Chip Cookies\\\",\\n    \\\"ingredients\\\": [\\n      \\\"1 cup (2 sticks) unsalted butter, softened\\\",\\n      \\\"\\u00be cup granulated sugar\\\",\\n      \\\"\\u00be cup packed brown sugar\\\",\\n      \\\"1 teaspoon pure vanilla extract\\\",\\n      \\\"2 large eggs\\\",\\n      \\\"2 \\u00bc cups all-purpose flour\\\",\\n      \\\"1 teaspoon baking soda\\\",\\n      \\\"1 teaspoon salt\\\",\\n      \\\"2 cups chocolate chips\\\"\\n    ]\\n  },\\n  {\\n    \\\"recipe_name\\\": \\\"Peanut Butter Cookies\\\",\\n    \\\"ingredients\\\": [\\n      \\\"1 cup creamy peanut butter\\\",\\n      \\\"1 cup granulated sugar\\\",\\n      \\\"1 cup packed brown sugar\\\",\\n      \\\"1 large egg\\\",\\n      \\\"1 teaspoon vanilla extract\\\"\\n    ]\\n  },\\n  {\\n    \\\"recipe_name\\\": \\\"Oatmeal Raisin Cookies\\\",\\n    \\\"ingredients\\\": [\\n      \\\"1 cup (2 sticks) unsalted butter, softened\\\",\\n      \\\"\\u00be cup granulated sugar\\\",\\n      \\\"\\u00be cup packed brown sugar\\\",\\n      \\\"2 large eggs\\\",\\n      \\\"1 teaspoon vanilla extract\\\",\\n      \\\"1 \\u00bd cups all-purpose flour\\\",\\n      \\\"1 teaspoon baking soda\\\",\\n      \\\"1 teaspoon ground cinnamon\\\",\\n      \\\"\\u00bd teaspoon salt\\\",\\n      \\\"3 cups rolled oats\\\",\\n      \\\"1 cup raisins\\\"\\n    ]\\n  },\\n  {\\n    \\\"recipe_name\\\": \\\"Sugar Cookies\\\",\\n    \\\"ingredients\\\": [\\n      \\\"1 cup (2 sticks) unsalted butter, softened\\\",\\n      \\\"1 \\u00bd cups granulated sugar\\\",\\n      \\\"2 large eggs\\\",\\n      \\\"1 teaspoon vanilla extract\\\",\\n      \\\"3 cups all-purpose flour\\\",\\n      \\\"1 teaspoon baking powder\\\",\\n      \\\"\\u00bd teaspoon salt\\\"\\n    ]\\n  },\\n    {\\n    \\\"recipe_name\\\": \\\"Snickerdoodles\\\",\\n    \\\"ingredients\\\": [\\n      \\\"\\u00bd cup (1 stick) unsalted butter, softened\\\",\\n      \\\"\\u00be cup granulated sugar\\\",\\n      \\\"1 large egg\\\",\\n      \\\"1 \\u00be cups all-purpose flour\\\",\\n      \\\"2 teaspoons cream of tartar\\\",\\n      \\\"1 teaspoon baking soda\\\",\\n      \\\"\\u00bc teaspoon salt\\\",\\n      \\\"\\u00bc cup granulated sugar\\\",\\n      \\\"2 teaspoons ground cinnamon\\\"\\n    ]\\n  }\\n]\\n```\"\n",
      "              }\n",
      "            ],\n",
      "            \"role\": \"model\"\n",
      "          },\n",
      "          \"finish_reason\": \"STOP\",\n",
      "          \"citation_metadata\": {\n",
      "            \"citation_sources\": [\n",
      "              {\n",
      "                \"start_index\": 104,\n",
      "                \"end_index\": 270,\n",
      "                \"uri\": \"https://thechocolaterecipe.com/chocolate-chip-cookie-recipe/\"\n",
      "              },\n",
      "              {\n",
      "                \"start_index\": 814,\n",
      "                \"end_index\": 1018,\n",
      "                \"uri\": \"https://cookymaster.com/uncategorized/easy-oatmeal-raisin-cookies/\"\n",
      "              }\n",
      "            ]\n",
      "          },\n",
      "          \"avg_logprobs\": -0.009208043731085145\n",
      "        }\n",
      "      ],\n",
      "      \"usage_metadata\": {\n",
      "        \"prompt_token_count\": 41,\n",
      "        \"candidates_token_count\": 505,\n",
      "        \"total_token_count\": 546\n",
      "      },\n",
      "      \"model_version\": \"gemini-1.5-pro-002\"\n",
      "    }),\n",
      ")\n"
     ]
    }
   ],
   "source": [
    "import google.generativeai as genai\n",
    "import os\n",
    "from dotenv import load_dotenv\n",
    "\n",
    "load_dotenv()\n",
    "genai.configure(api_key=os.getenv(\"GENAI_API_KEY\"))\n",
    "model = genai.GenerativeModel(\"gemini-1.5-pro-latest\")\n",
    "prompt = \"\"\"List a few popular cookie recipes in JSON format.\n",
    "\n",
    "Use this JSON schema:\n",
    "\n",
    "Recipe = {'recipe_name': str, 'ingredients': list[str]}\n",
    "Return: list[Recipe]\"\"\"\n",
    "result = model.generate_content(prompt)\n",
    "print(result)"
   ]
  }
 ],
 "metadata": {
  "kernelspec": {
   "display_name": "Python 3",
   "language": "python",
   "name": "python3"
  },
  "language_info": {
   "codemirror_mode": {
    "name": "ipython",
    "version": 3
   },
   "file_extension": ".py",
   "mimetype": "text/x-python",
   "name": "python",
   "nbconvert_exporter": "python",
   "pygments_lexer": "ipython3",
   "version": "3.13.1"
  }
 },
 "nbformat": 4,
 "nbformat_minor": 2
}
