{
 "cells": [
  {
   "cell_type": "markdown",
   "metadata": {},
   "source": [
    "### Step 1 : Install the Gemini API and Dotenv library\n",
    "pip install  google-generativeai\n",
    "\n",
    "pip install python-dotenv"
   ]
  },
  {
   "cell_type": "markdown",
   "metadata": {},
   "source": [
    "### Step 2: Make your first request\n",
    "Get a Gemini API key in Google AI Studio\n",
    "\n",
    "### Use the generateContent method to send a request to the Gemini AP"
   ]
  },
  {
   "cell_type": "code",
   "execution_count": 9,
   "metadata": {},
   "outputs": [
    {
     "name": "stderr",
     "output_type": "stream",
     "text": [
      "Exception ignored in: <function _afterFork at 0x103110ae0>\n",
      "Traceback (most recent call last):\n",
      "  File \"/Library/Frameworks/Python.framework/Versions/3.13/lib/python3.13/logging/__init__.py\", line 245, in _afterFork\n",
      "    def _afterFork():\n",
      "KeyboardInterrupt: \n"
     ]
    },
    {
     "name": "stdout",
     "output_type": "stream",
     "text": [
      "Note: you may need to restart the kernel to use updated packages.\n"
     ]
    }
   ],
   "source": [
    "pip install -q -U google-generativeai"
   ]
  },
  {
   "cell_type": "code",
   "execution_count": 7,
   "metadata": {},
   "outputs": [
    {
     "name": "stdout",
     "output_type": "stream",
     "text": [
      "Collecting python-dotenv\n",
      "  Downloading python_dotenv-1.0.1-py3-none-any.whl.metadata (23 kB)\n",
      "Downloading python_dotenv-1.0.1-py3-none-any.whl (19 kB)\n",
      "Installing collected packages: python-dotenv\n",
      "Successfully installed python-dotenv-1.0.1\n",
      "Note: you may need to restart the kernel to use updated packages.\n"
     ]
    }
   ],
   "source": [
    "pip install python-dotenv\n"
   ]
  },
  {
   "cell_type": "code",
   "execution_count": 8,
   "metadata": {},
   "outputs": [
    {
     "name": "stdout",
     "output_type": "stream",
     "text": [
      "Artificial intelligence (AI) is a broad field encompassing many techniques, but at its core, it's about creating systems that can perform tasks that typically require human intelligence.  These tasks include things like learning, reasoning, problem-solving, perception, and natural language understanding.  There isn't one single \"how\" AI works, but here's a breakdown of common approaches:\n",
      "\n",
      "**1. Machine Learning (ML):** This is arguably the most prevalent approach to AI today.  Instead of explicitly programming a system with rules, ML algorithms learn patterns from data.  They identify statistical relationships and use them to make predictions or decisions on new, unseen data.  Key types of ML include:\n",
      "\n",
      "* **Supervised Learning:** The algorithm is trained on a labeled dataset (data with known inputs and outputs).  The goal is to learn a mapping between inputs and outputs so it can predict outputs for new inputs.  Examples include image classification (identifying objects in images) and spam detection.\n",
      "* **Unsupervised Learning:** The algorithm is trained on an unlabeled dataset.  The goal is to discover hidden patterns, structures, or relationships in the data.  Examples include clustering (grouping similar data points together) and dimensionality reduction (reducing the number of variables while retaining important information).\n",
      "* **Reinforcement Learning:** The algorithm learns through trial and error by interacting with an environment.  It receives rewards for good actions and penalties for bad actions, learning to maximize its cumulative reward over time.  Examples include game playing (like AlphaGo) and robotics.\n",
      "\n",
      "**2. Deep Learning (DL):** A subfield of ML that uses artificial neural networks with multiple layers (hence \"deep\").  These networks are inspired by the structure and function of the human brain.  They are particularly good at handling complex data like images, audio, and text.  Convolutional Neural Networks (CNNs) are commonly used for image processing, while Recurrent Neural Networks (RNNs) are used for sequential data like text and time series.\n",
      "\n",
      "**3. Expert Systems:** These systems encode human knowledge and expertise into a set of rules.  They use these rules to reason and make decisions based on input data.  While less prevalent than ML today, they remain useful in specific domains where human expertise is readily available and can be formalized.\n",
      "\n",
      "**4. Natural Language Processing (NLP):**  Focuses on enabling computers to understand, interpret, and generate human language.  Techniques used in NLP include machine learning, rule-based systems, and statistical methods.  Applications include chatbots, machine translation, and sentiment analysis.\n",
      "\n",
      "**5. Computer Vision:** Enables computers to \"see\" and interpret images and videos.  It relies heavily on deep learning, particularly CNNs, to identify objects, faces, and scenes.  Applications include self-driving cars, medical image analysis, and security systems.\n",
      "\n",
      "\n",
      "**In essence, most AI systems work by:**\n",
      "\n",
      "1. **Data Acquisition:** Gathering and preparing relevant data.\n",
      "2. **Model Selection:** Choosing an appropriate algorithm or model (e.g., a specific type of neural network).\n",
      "3. **Training:** Feeding the data to the chosen algorithm to learn patterns and relationships.\n",
      "4. **Evaluation:** Assessing the performance of the trained model on unseen data.\n",
      "5. **Deployment:** Using the trained model to make predictions or decisions in a real-world application.\n",
      "\n",
      "\n",
      "It's important to note that AI is a rapidly evolving field, and new techniques and approaches are constantly being developed.  The explanation above provides a general overview, and the specific methods used will vary depending on the specific AI application.\n",
      "\n"
     ]
    }
   ],
   "source": [
    "from dotenv import load_dotenv\n",
    "import os\n",
    "import google.generativeai as genai\n",
    "\n",
    "load_dotenv()\n",
    "genai.configure(api_key=os.getenv(\"GEMINI_API_KEY\"))\n",
    "model = genai.GenerativeModel(\"gemini-1.5-flash\")\n",
    "response = model.generate_content(\"How does AI work?\")\n",
    "print(response.text)"
   ]
  }
 ],
 "metadata": {
  "kernelspec": {
   "display_name": "Python 3",
   "language": "python",
   "name": "python3"
  },
  "language_info": {
   "codemirror_mode": {
    "name": "ipython",
    "version": 3
   },
   "file_extension": ".py",
   "mimetype": "text/x-python",
   "name": "python",
   "nbconvert_exporter": "python",
   "pygments_lexer": "ipython3",
   "version": "3.13.1"
  }
 },
 "nbformat": 4,
 "nbformat_minor": 2
}
